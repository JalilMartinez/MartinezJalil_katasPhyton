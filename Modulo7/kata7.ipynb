{
 "cells": [
  {
   "cell_type": "code",
   "execution_count": null,
   "metadata": {},
   "outputs": [],
   "source": [
    "#Primer programa \n",
    "#declaro variables\n",
    "new_planet = ''\n",
    "planets = []\n",
    "#creo cilo while\n",
    "while new_planet.lower() != 'Hecho':\n",
    "    if new_planet:\n",
    "        planets.append(new_planet)\n",
    "    new_planet = input('ingresa nuevo planetag ')"
   ]
  },
  {
   "cell_type": "code",
   "execution_count": 5,
   "metadata": {},
   "outputs": [
    {
     "name": "stdout",
     "output_type": "stream",
     "text": [
      "5\n",
      "ff\n",
      "gg\n",
      "df\n",
      "fd\n",
      "df\n"
     ]
    }
   ],
   "source": [
    "#Segundo programa \n",
    "#declaro variables\n",
    "new_planet = ''\n",
    "planets = [5]\n",
    "cont = 0\n",
    "#creo cilo while\n",
    "while cont <= 5:\n",
    "    if new_planet:\n",
    "        planets.append(new_planet)\n",
    "    new_planet = input('ingresa nuevo planetag ')\n",
    "    cont = cont+1\n",
    "#imprime variables\n",
    "for planet in planets:\n",
    "    print(planet)"
   ]
  }
 ],
 "metadata": {
  "interpreter": {
   "hash": "aa89d92239b41d259815bea3d8c15fad273485b4d0199962a4417af10c886614"
  },
  "kernelspec": {
   "display_name": "Python 3.10.2 64-bit",
   "language": "python",
   "name": "python3"
  },
  "language_info": {
   "codemirror_mode": {
    "name": "ipython",
    "version": 3
   },
   "file_extension": ".py",
   "mimetype": "text/x-python",
   "name": "python",
   "nbconvert_exporter": "python",
   "pygments_lexer": "ipython3",
   "version": "3.10.2"
  },
  "orig_nbformat": 4
 },
 "nbformat": 4,
 "nbformat_minor": 2
}
