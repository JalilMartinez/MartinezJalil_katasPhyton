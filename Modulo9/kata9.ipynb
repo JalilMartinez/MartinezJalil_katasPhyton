{
 "cells": [
  {
   "cell_type": "code",
   "execution_count": 8,
   "metadata": {},
   "outputs": [
    {
     "name": "stdout",
     "output_type": "stream",
     "text": [
      "Reporte:\n",
      "    Promedio total: 78.33333333333333%\n",
      "    tanque principal: 80%\n",
      "    tanque externo: 70%\n",
      "    tanque de hidrogeno: 85% \n",
      "Reporte:\n",
      "    Promedio total: 78.0%\n",
      "    tanque principal: 88%\n",
      "    tanque externo: 76%\n",
      "    tanque de hidrogeno: 70% \n"
     ]
    }
   ],
   "source": [
    "#Ejercicio1\n",
    "# Función para leer 3 tanques de combustible y muestre el promedio\n",
    "def dat_reporte(tanque_pri, tanque_ext, tanque_hidr):\n",
    "    prom = (tanque_pri + tanque_ext + tanque_hidr) / 3\n",
    "    return f\"\"\"Reporte:\n",
    "    Promedio total: {prom}%\n",
    "    tanque principal: {tanque_pri}%\n",
    "    tanque externo: {tanque_ext}%\n",
    "    tanque de hidrogeno: {tanque_hidr}% \"\"\"\n",
    "# Llamamos a la función que genera el reporte print(funcion(tanque1, tanque2, tanque3))\n",
    "print(dat_reporte(80, 70, 85))\n",
    "# Función promedio \n",
    "def average(values):\n",
    "    total = sum(values)\n",
    "    number_of_items = len(values)\n",
    "    return total / number_of_items\n",
    "# Test the averaging function with a list of integers:\n",
    "average([80, 85, 81]) \n",
    "# Actualiza la función\n",
    "def dat_reporte(tanque_pri, tanque_ext, tanque_hidr):\n",
    "    return f\"\"\"Reporte:\n",
    "    Promedio total: {average([tanque_pri, tanque_ext, tanque_hidr])}%\n",
    "    tanque principal: {tanque_pri}%\n",
    "    tanque externo: {tanque_ext}%\n",
    "    tanque de hidrogeno: {tanque_hidr}% \"\"\"\n",
    "\n",
    "# Call the updated function again with different values\n",
    "print(dat_reporte(88, 76, 70))\n"
   ]
  },
  {
   "cell_type": "code",
   "execution_count": 12,
   "metadata": {},
   "outputs": [
    {
     "name": "stdout",
     "output_type": "stream",
     "text": [
      "\n",
      "    Mision a Moon\n",
      "    Tiempo de viaje: 65 minutes\n",
      "    combustible gastado: 500000 gallons\n",
      "    \n",
      "\n",
      "    Mision a Moon\n",
      "    Tiempo de viaje: 76 minutes\n",
      "    combustible gastado: 500000\n",
      "    \n",
      "\n",
      "    Mision a Moon\n",
      "    Tiempo de viaje: 74 minutes\n",
      "    combustible gastado: 500000\n",
      "    main tank --> 300000 gallons left\n",
      "external tank --> 200000 gallons left\n",
      "\n"
     ]
    }
   ],
   "source": [
    "# Función con un informe preciso de la misión. Considera hora de prelanzamiento, tiempo de vuelo, destino, tanque externo y tanque interno\n",
    "\n",
    "def rep_mision(prelanzamiento_time, vuelo, destino, tanque_ext, tanque_prin):\n",
    "    return f\"\"\"\n",
    "    Mision a {destino}\n",
    "    Tiempo de viaje: {prelanzamiento_time + vuelo} minutes\n",
    "    combustible gastado: {tanque_prin + tanque_ext} gallons\n",
    "    \"\"\"\n",
    "\n",
    "print(rep_mision(14, 51, \"Moon\", 200000, 300000))\n",
    "# Escribe tu nueva función de reporte considerando lo anterior\n",
    "\n",
    "def rep_mision(destino, *min, **fuel_reservoirs):\n",
    "    return f\"\"\"\n",
    "    Mision a {destino}\n",
    "    Tiempo de viaje: {sum(min)} minutes\n",
    "    combustible gastado: {sum(fuel_reservoirs.values())}\n",
    "    \"\"\"\n",
    "\n",
    "print(rep_mision(\"Moon\", 10, 15, 51, main=300000, external=200000))\n",
    "# Escribe tu nueva función\n",
    "\n",
    "def rep_mision(destino, *min, **fuel_reservoirs):\n",
    "    reporte = f\"\"\"\n",
    "    Mision a {destino}\n",
    "    Tiempo de viaje: {sum(min)} minutes\n",
    "    combustible gastado: {sum(fuel_reservoirs.values())}\n",
    "    \"\"\"\n",
    "    for tank_name, gallons in fuel_reservoirs.items():\n",
    "        reporte += f\"{tank_name} tanque --> {gallons} gallons left\\n\"\n",
    "    return reporte\n",
    "\n",
    "print(rep_mision(\"Moon\", 8, 11, 55, main=300000, external=200000))"
   ]
  }
 ],
 "metadata": {
  "interpreter": {
   "hash": "aa89d92239b41d259815bea3d8c15fad273485b4d0199962a4417af10c886614"
  },
  "kernelspec": {
   "display_name": "Python 3.10.2 64-bit",
   "language": "python",
   "name": "python3"
  },
  "language_info": {
   "codemirror_mode": {
    "name": "ipython",
    "version": 3
   },
   "file_extension": ".py",
   "mimetype": "text/x-python",
   "name": "python",
   "nbconvert_exporter": "python",
   "pygments_lexer": "ipython3",
   "version": "3.10.2"
  },
  "orig_nbformat": 4
 },
 "nbformat": 4,
 "nbformat_minor": 2
}
